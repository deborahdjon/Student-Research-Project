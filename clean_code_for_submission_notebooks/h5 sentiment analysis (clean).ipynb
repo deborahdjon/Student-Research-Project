{
 "cells": [
  {
   "cell_type": "markdown",
   "metadata": {},
   "source": [
    "### H5 - Sentiment Analysis"
   ]
  },
  {
   "cell_type": "code",
   "execution_count": 127,
   "metadata": {},
   "outputs": [],
   "source": [
    "import pandas as pd\n",
    "import matplotlib.pyplot as plt\n",
    "import seaborn as sns\n",
    "import os\n",
    "from pickle import load, dump\n",
    "import numpy as np\n",
    "import warnings\n",
    "warnings.filterwarnings('ignore')"
   ]
  },
  {
   "cell_type": "code",
   "execution_count": 128,
   "metadata": {},
   "outputs": [],
   "source": [
    "clean_data_folder = \"../clean_data\"\n",
    "filenames = os.listdir(clean_data_folder)\n",
    "os.listdir(clean_data_folder)\n",
    "\n",
    "with open(clean_data_folder+\"/pickleall_data.pkl\", \"rb\") as f: \n",
    "    all_scripts = load(f)"
   ]
  },
  {
   "cell_type": "code",
   "execution_count": 129,
   "metadata": {},
   "outputs": [],
   "source": [
    "all_scripts['episode_str']=all_scripts['episode'].apply(\n",
    "    lambda x: '0'+str(x) if len(str(x))==1 else str(x))\n",
    "all_scripts['season_episode_no'] = all_scripts['season'].apply(\n",
    "    lambda x: str(x))+all_scripts['episode_str']\n",
    "all_scripts['season_episode_no'] = all_scripts['season_episode_no'].apply(\n",
    "    lambda x: int(x))"
   ]
  },
  {
   "cell_type": "code",
   "execution_count": 130,
   "metadata": {},
   "outputs": [
    {
     "data": {
      "text/html": [
       "<div>\n",
       "<style scoped>\n",
       "    .dataframe tbody tr th:only-of-type {\n",
       "        vertical-align: middle;\n",
       "    }\n",
       "\n",
       "    .dataframe tbody tr th {\n",
       "        vertical-align: top;\n",
       "    }\n",
       "\n",
       "    .dataframe thead th {\n",
       "        text-align: right;\n",
       "    }\n",
       "</style>\n",
       "<table border=\"1\" class=\"dataframe\">\n",
       "  <thead>\n",
       "    <tr style=\"text-align: right;\">\n",
       "      <th></th>\n",
       "      <th>term</th>\n",
       "      <th>value</th>\n",
       "    </tr>\n",
       "  </thead>\n",
       "  <tbody>\n",
       "    <tr>\n",
       "      <th>1852</th>\n",
       "      <td>regret</td>\n",
       "      <td>-2</td>\n",
       "    </tr>\n",
       "    <tr>\n",
       "      <th>1285</th>\n",
       "      <td>indifferent</td>\n",
       "      <td>-2</td>\n",
       "    </tr>\n",
       "    <tr>\n",
       "      <th>681</th>\n",
       "      <td>disappoints</td>\n",
       "      <td>-2</td>\n",
       "    </tr>\n",
       "    <tr>\n",
       "      <th>770</th>\n",
       "      <td>doubts</td>\n",
       "      <td>-1</td>\n",
       "    </tr>\n",
       "    <tr>\n",
       "      <th>1644</th>\n",
       "      <td>outmaneuvered</td>\n",
       "      <td>-2</td>\n",
       "    </tr>\n",
       "    <tr>\n",
       "      <th>55</th>\n",
       "      <td>admit</td>\n",
       "      <td>-1</td>\n",
       "    </tr>\n",
       "    <tr>\n",
       "      <th>1133</th>\n",
       "      <td>haha</td>\n",
       "      <td>3</td>\n",
       "    </tr>\n",
       "    <tr>\n",
       "      <th>1160</th>\n",
       "      <td>haunt</td>\n",
       "      <td>-1</td>\n",
       "    </tr>\n",
       "    <tr>\n",
       "      <th>2435</th>\n",
       "      <td>wishing</td>\n",
       "      <td>1</td>\n",
       "    </tr>\n",
       "    <tr>\n",
       "      <th>21</th>\n",
       "      <td>abused</td>\n",
       "      <td>-3</td>\n",
       "    </tr>\n",
       "    <tr>\n",
       "      <th>894</th>\n",
       "      <td>exclude</td>\n",
       "      <td>-1</td>\n",
       "    </tr>\n",
       "    <tr>\n",
       "      <th>1207</th>\n",
       "      <td>hopes</td>\n",
       "      <td>2</td>\n",
       "    </tr>\n",
       "    <tr>\n",
       "      <th>2244</th>\n",
       "      <td>toothless</td>\n",
       "      <td>-2</td>\n",
       "    </tr>\n",
       "    <tr>\n",
       "      <th>1179</th>\n",
       "      <td>heroes</td>\n",
       "      <td>2</td>\n",
       "    </tr>\n",
       "    <tr>\n",
       "      <th>1000</th>\n",
       "      <td>flustered</td>\n",
       "      <td>-2</td>\n",
       "    </tr>\n",
       "  </tbody>\n",
       "</table>\n",
       "</div>"
      ],
      "text/plain": [
       "               term  value\n",
       "1852         regret     -2\n",
       "1285    indifferent     -2\n",
       "681     disappoints     -2\n",
       "770          doubts     -1\n",
       "1644  outmaneuvered     -2\n",
       "55            admit     -1\n",
       "1133           haha      3\n",
       "1160          haunt     -1\n",
       "2435        wishing      1\n",
       "21           abused     -3\n",
       "894         exclude     -1\n",
       "1207          hopes      2\n",
       "2244      toothless     -2\n",
       "1179         heroes      2\n",
       "1000      flustered     -2"
      ]
     },
     "execution_count": 130,
     "metadata": {},
     "output_type": "execute_result"
    }
   ],
   "source": [
    "from afinn import Afinn\n",
    "afn = Afinn(emoticons=True)\n",
    "afinn_wl_url = ('https://raw.githubusercontent.com'\n",
    "                '/fnielsen/afinn/master/afinn/data/AFINN-111.txt')\n",
    "afinn_wl_df = pd.read_csv(afinn_wl_url,\n",
    "                          header=None, # no column names\n",
    "                          sep='\\t',  # tab sepeated\n",
    "                          names=['term', 'value']) #new column names\n",
    "seed = 808 # seed for sample so results are stable\n",
    "afinn_wl_df.sample(15, random_state = seed)"
   ]
  },
  {
   "cell_type": "code",
   "execution_count": 131,
   "metadata": {},
   "outputs": [],
   "source": [
    "def set_sentiment(score):\n",
    "    if score==0:\n",
    "        sentiment='neutral'\n",
    "    elif score<0:\n",
    "        sentiment='negative'\n",
    "    elif score>0:\n",
    "        sentiment='positiv'\n",
    "    return sentiment\n"
   ]
  },
  {
   "cell_type": "code",
   "execution_count": 132,
   "metadata": {},
   "outputs": [],
   "source": [
    "#sentiment for top 5 characters in all seasons\n",
    "jack_o_neill= all_scripts[all_scripts.character=='jack_o_neill']"
   ]
  },
  {
   "cell_type": "code",
   "execution_count": 133,
   "metadata": {},
   "outputs": [],
   "source": [
    "jack_o_neill['text']=jack_o_neill.text.apply(\n",
    "    lambda x: ' '.join(x))\n",
    "jack_o_neill['sentiment_score']=jack_o_neill.text.apply(\n",
    "    lambda x: afn.score(x))"
   ]
  },
  {
   "cell_type": "code",
   "execution_count": 134,
   "metadata": {},
   "outputs": [
    {
     "data": {
      "text/plain": [
       "0.09258450519696043"
      ]
     },
     "execution_count": 134,
     "metadata": {},
     "output_type": "execute_result"
    }
   ],
   "source": [
    "avg_jack=jack_o_neill.sentiment_score.mean()\n",
    "avg_jack"
   ]
  },
  {
   "cell_type": "code",
   "execution_count": 135,
   "metadata": {
    "scrolled": true
   },
   "outputs": [
    {
     "data": {
      "image/png": "[encoded data removed]",
      "text/plain": [
       "<Figure size 720x288 with 1 Axes>"
      ]
     },
     "metadata": {
      "needs_background": "light"
     },
     "output_type": "display_data"
    }
   ],
   "source": [
    "g = sns.catplot(\n",
    "    data=jack_o_neill, kind=\"bar\",\n",
    "    x=\"season_episode_no\", y=\"sentiment_score\",\n",
    "    ci=None, alpha=.6, height=4, estimator=np.mean, aspect=2.5, color=\"blue\"\n",
    ")\n",
    "g.despine(left=True)\n",
    "g.fig.suptitle(\"Sentiment of Jack O'Neill\")\n",
    "g.set(ylim=(-1.5, 1.5))\n",
    "ax1, = g.axes[0]\n",
    "\n",
    "ax1.axhline(avg_jack, ls='--')\n",
    "#ax1.axhline(0, ls='-', c='grey')\n",
    "plt.legend(labels=[\"Average\"])\n",
    "\n",
    "xticks=ax1.xaxis.get_major_ticks()\n",
    "for i in range(len(xticks)):\n",
    "    if i%10==0:\n",
    "        xticks[i].set_visible(True)\n",
    "    else:\n",
    "        xticks[i].set_visible(False)\n",
    "\n",
    "plt.show()"
   ]
  },
  {
   "cell_type": "code",
   "execution_count": 136,
   "metadata": {},
   "outputs": [
    {
     "data": {
      "text/html": [
       "<div>\n",
       "<style scoped>\n",
       "    .dataframe tbody tr th:only-of-type {\n",
       "        vertical-align: middle;\n",
       "    }\n",
       "\n",
       "    .dataframe tbody tr th {\n",
       "        vertical-align: top;\n",
       "    }\n",
       "\n",
       "    .dataframe thead th {\n",
       "        text-align: right;\n",
       "    }\n",
       "</style>\n",
       "<table border=\"1\" class=\"dataframe\">\n",
       "  <thead>\n",
       "    <tr style=\"text-align: right;\">\n",
       "      <th></th>\n",
       "      <th>index</th>\n",
       "      <th>sentiment</th>\n",
       "    </tr>\n",
       "  </thead>\n",
       "  <tbody>\n",
       "    <tr>\n",
       "      <th>0</th>\n",
       "      <td>neutral</td>\n",
       "      <td>6628</td>\n",
       "    </tr>\n",
       "    <tr>\n",
       "      <th>1</th>\n",
       "      <td>positiv</td>\n",
       "      <td>2708</td>\n",
       "    </tr>\n",
       "    <tr>\n",
       "      <th>2</th>\n",
       "      <td>negative</td>\n",
       "      <td>2113</td>\n",
       "    </tr>\n",
       "  </tbody>\n",
       "</table>\n",
       "</div>"
      ],
      "text/plain": [
       "      index  sentiment\n",
       "0   neutral       6628\n",
       "1   positiv       2708\n",
       "2  negative       2113"
      ]
     },
     "execution_count": 136,
     "metadata": {},
     "output_type": "execute_result"
    }
   ],
   "source": [
    "jack_o_neill['sentiment']=jack_o_neill.sentiment_score.apply(\n",
    "    lambda x: set_sentiment(x))\n",
    "sentiment_jack=jack_o_neill.sentiment.value_counts().reset_index()\n",
    "sentiment_jack"
   ]
  },
  {
   "cell_type": "code",
   "execution_count": 137,
   "metadata": {},
   "outputs": [
    {
     "data": {
      "text/plain": [
       "Text(0.5, 0.98, \"Sentiment count of Jack O'Neill\")"
      ]
     },
     "execution_count": 137,
     "metadata": {},
     "output_type": "execute_result"
    },
    {
     "data": {
      "image/png": "[encoded data removed]",
      "text/plain": [
       "<Figure size 216x216 with 1 Axes>"
      ]
     },
     "metadata": {
      "needs_background": "light"
     },
     "output_type": "display_data"
    }
   ],
   "source": [
    "g = sns.catplot(\n",
    "    data=sentiment_jack, kind=\"bar\",\n",
    "    x=\"index\", y=\"sentiment\",\n",
    "    ci=None, alpha=.6, height=3, order=['neutral','positiv','negative']\n",
    ")\n",
    "g.despine(left=True)\n",
    "g.fig.suptitle(\"Sentiment count of Jack O'Neill\")"
   ]
  },
  {
   "cell_type": "code",
   "execution_count": 138,
   "metadata": {},
   "outputs": [
    {
     "data": {
      "text/plain": [
       "0.05182291666666667"
      ]
     },
     "execution_count": 138,
     "metadata": {},
     "output_type": "execute_result"
    }
   ],
   "source": [
    "daniel_jackson= all_scripts[all_scripts.character=='daniel_jackson']\n",
    "daniel_jackson['text']=daniel_jackson.text.apply(\n",
    "    lambda x: ' '.join(x))\n",
    "daniel_jackson['sentiment_score']=daniel_jackson.text.apply(\n",
    "    lambda x: afn.score(x))\n",
    "avg_daniel=daniel_jackson.sentiment_score.mean()\n",
    "avg_daniel"
   ]
  },
  {
   "cell_type": "code",
   "execution_count": 139,
   "metadata": {},
   "outputs": [
    {
     "data": {
      "image/png": "[encoded data removed]",
      "text/plain": [
       "<Figure size 720x288 with 1 Axes>"
      ]
     },
     "metadata": {
      "needs_background": "light"
     },
     "output_type": "display_data"
    }
   ],
   "source": [
    "g = sns.catplot(\n",
    "    data=daniel_jackson, kind=\"bar\",\n",
    "    x=\"season_episode_no\", y=\"sentiment_score\",\n",
    "    ci=None, alpha=.6, height=4, estimator=np.mean, aspect=2.5, color=\"blue\"\n",
    ")\n",
    "g.despine(left=True)\n",
    "g.fig.suptitle(\"Sentiment of Daniel Jackson\")\n",
    "g.set(ylim=(-1.5, 1.5))\n",
    "ax1, = g.axes[0]\n",
    "\n",
    "ax1.axhline(avg_daniel, ls='--')\n",
    "#ax1.axhline(0, ls='-', c='grey')\n",
    "plt.legend(labels=[\"Average\"])\n",
    "\n",
    "xticks=ax1.xaxis.get_major_ticks()\n",
    "for i in range(len(xticks)):\n",
    "    if i%10==0:\n",
    "        xticks[i].set_visible(True)\n",
    "    else:\n",
    "        xticks[i].set_visible(False)\n",
    "\n",
    "plt.show()"
   ]
  },
  {
   "cell_type": "code",
   "execution_count": 140,
   "metadata": {},
   "outputs": [
    {
     "data": {
      "text/plain": [
       "Text(0.5, 0.98, 'Sentiment count of Daniel Jackson')"
      ]
     },
     "execution_count": 140,
     "metadata": {},
     "output_type": "execute_result"
    },
    {
     "data": {
      "image/png": "[encoded data removed]",
      "text/plain": [
       "<Figure size 216x216 with 1 Axes>"
      ]
     },
     "metadata": {
      "needs_background": "light"
     },
     "output_type": "display_data"
    }
   ],
   "source": [
    "daniel_jackson['sentiment']=daniel_jackson.sentiment_score.apply(\n",
    "    lambda x: set_sentiment(x))\n",
    "sentiment_daniel_jackson=daniel_jackson.sentiment.value_counts().reset_index()\n",
    "g = sns.catplot(\n",
    "    data=sentiment_daniel_jackson, kind=\"bar\",\n",
    "    x=\"index\", y=\"sentiment\",\n",
    "    ci=None, alpha=.6, height=3, order=['neutral','positiv','negative']\n",
    ")\n",
    "g.despine(left=True)\n",
    "g.fig.suptitle(\"Sentiment count of Daniel Jackson\")"
   ]
  },
  {
   "cell_type": "code",
   "execution_count": 141,
   "metadata": {},
   "outputs": [
    {
     "data": {
      "text/plain": [
       "0.09671513193322563"
      ]
     },
     "execution_count": 141,
     "metadata": {},
     "output_type": "execute_result"
    }
   ],
   "source": [
    "samantha_carter= all_scripts[all_scripts.character=='samantha_carter']\n",
    "samantha_carter['text']=samantha_carter.text.apply(\n",
    "    lambda x: ' '.join(x))\n",
    "samantha_carter['sentiment_score']=samantha_carter.text.apply(\n",
    "    lambda x: afn.score(x))\n",
    "avg_sam=samantha_carter.sentiment_score.mean()\n",
    "avg_sam"
   ]
  },
  {
   "cell_type": "code",
   "execution_count": 142,
   "metadata": {},
   "outputs": [
    {
     "data": {
      "image/png": "[encoded data removed]",
      "text/plain": [
       "<Figure size 720x288 with 1 Axes>"
      ]
     },
     "metadata": {
      "needs_background": "light"
     },
     "output_type": "display_data"
    }
   ],
   "source": [
    "g = sns.catplot(\n",
    "    data=samantha_carter, kind=\"bar\",\n",
    "    x=\"season_episode_no\", y=\"sentiment_score\",\n",
    "    ci=None, alpha=.6, height=4, estimator=np.mean, aspect=2.5, color=\"blue\"\n",
    ")\n",
    "g.despine(left=True)\n",
    "g.fig.suptitle(\"Sentiment of Samantha Carter\")\n",
    "g.set(ylim=(-1.5, 1.5))\n",
    "ax1, = g.axes[0]\n",
    "\n",
    "ax1.axhline(avg_sam, ls='--')\n",
    "#ax1.axhline(0, ls='-', c='grey')\n",
    "plt.legend(labels=[\"Average\"])\n",
    "\n",
    "\n",
    "xticks=ax1.xaxis.get_major_ticks()\n",
    "for i in range(len(xticks)):\n",
    "    if i%10==0:\n",
    "        xticks[i].set_visible(True)\n",
    "    else:\n",
    "        xticks[i].set_visible(False)\n",
    "\n",
    "plt.show()"
   ]
  },
  {
   "cell_type": "code",
   "execution_count": 143,
   "metadata": {},
   "outputs": [
    {
     "data": {
      "text/plain": [
       "Text(0.5, 0.98, 'Sentiment count of Samantha Carter')"
      ]
     },
     "execution_count": 143,
     "metadata": {},
     "output_type": "execute_result"
    },
    {
     "data": {
      "image/png": "[encoded data removed]",
      "text/plain": [
       "<Figure size 216x216 with 1 Axes>"
      ]
     },
     "metadata": {
      "needs_background": "light"
     },
     "output_type": "display_data"
    }
   ],
   "source": [
    "samantha_carter['sentiment']=samantha_carter.sentiment_score.apply(\n",
    "    lambda x: set_sentiment(x))\n",
    "sentiment_samantha_carter=samantha_carter.sentiment.value_counts().reset_index()\n",
    "g = sns.catplot(\n",
    "    data=sentiment_samantha_carter, kind=\"bar\",\n",
    "    x=\"index\", y=\"sentiment\",\n",
    "    ci=None, alpha=.6, height=3, order=['neutral','positiv','negative']\n",
    ")\n",
    "g.despine(left=True)\n",
    "g.fig.suptitle(\"Sentiment count of Samantha Carter\")"
   ]
  },
  {
   "cell_type": "code",
   "execution_count": 144,
   "metadata": {},
   "outputs": [
    {
     "data": {
      "text/plain": [
       "-0.1487846795973484"
      ]
     },
     "execution_count": 144,
     "metadata": {},
     "output_type": "execute_result"
    }
   ],
   "source": [
    "teal_c= all_scripts[all_scripts.character=='teal_c']\n",
    "teal_c['text']=teal_c.text.apply(lambda x: ' '.join(x))\n",
    "teal_c['sentiment_score']=teal_c.text.apply(lambda x: afn.score(x))\n",
    "avg_teal_c=teal_c.sentiment_score.mean()\n",
    "avg_teal_c"
   ]
  },
  {
   "cell_type": "code",
   "execution_count": 145,
   "metadata": {},
   "outputs": [
    {
     "data": {
      "image/png": "[encoded data removed]",
      "text/plain": [
       "<Figure size 720x288 with 1 Axes>"
      ]
     },
     "metadata": {
      "needs_background": "light"
     },
     "output_type": "display_data"
    }
   ],
   "source": [
    "g = sns.catplot(\n",
    "    data=teal_c, kind=\"bar\",\n",
    "    x=\"season_episode_no\", y=\"sentiment_score\",\n",
    "    ci=None, alpha=.6, height=4, estimator=np.mean, aspect=2.5, color=\"blue\"\n",
    ")\n",
    "g.despine(left=True)\n",
    "g.fig.suptitle(\"Sentiment of Teal'C\")\n",
    "ax1, = g.axes[0]\n",
    "\n",
    "ax1.axhline(avg_teal_c, ls='--')\n",
    "#ax1.axhline(0, ls='-', c='grey')\n",
    "plt.legend(labels=[\"Average\"])\n",
    "\n",
    "\n",
    "xticks=ax1.xaxis.get_major_ticks()\n",
    "for i in range(len(xticks)):\n",
    "    if i%10==0:\n",
    "        xticks[i].set_visible(True)\n",
    "    else:\n",
    "        xticks[i].set_visible(False)\n",
    "\n",
    "plt.show()"
   ]
  },
  {
   "cell_type": "code",
   "execution_count": 146,
   "metadata": {},
   "outputs": [
    {
     "data": {
      "text/plain": [
       "Text(0.5, 0.98, \"Sentiment count of Teal'C\")"
      ]
     },
     "execution_count": 146,
     "metadata": {},
     "output_type": "execute_result"
    },
    {
     "data": {
      "image/png": "[encoded data removed]",
      "text/plain": [
       "<Figure size 216x216 with 1 Axes>"
      ]
     },
     "metadata": {
      "needs_background": "light"
     },
     "output_type": "display_data"
    }
   ],
   "source": [
    "teal_c['sentiment']=teal_c.sentiment_score.apply(lambda x: set_sentiment(x))\n",
    "sentiment_teal_c=teal_c.sentiment.value_counts().reset_index()\n",
    "g = sns.catplot(\n",
    "    data=sentiment_teal_c, kind=\"bar\",\n",
    "    x=\"index\", y=\"sentiment\",\n",
    "    ci=None, alpha=.6, height=3, order=['neutral','positiv','negative']\n",
    ")\n",
    "g.despine(left=True)\n",
    "g.fig.suptitle(\"Sentiment count of Teal'C\")"
   ]
  },
  {
   "cell_type": "code",
   "execution_count": 147,
   "metadata": {},
   "outputs": [
    {
     "data": {
      "text/plain": [
       "0.11444408216498207"
      ]
     },
     "execution_count": 147,
     "metadata": {},
     "output_type": "execute_result"
    }
   ],
   "source": [
    "hammond= all_scripts[all_scripts.character=='hammond']\n",
    "hammond['text']=hammond.text.apply(lambda x: ' '.join(x))\n",
    "hammond['sentiment_score']=hammond.text.apply(lambda x: afn.score(x))\n",
    "avg_hammond=hammond.sentiment_score.mean()\n",
    "avg_hammond"
   ]
  },
  {
   "cell_type": "code",
   "execution_count": 148,
   "metadata": {},
   "outputs": [
    {
     "data": {
      "image/png": "[encoded data removed]",
      "text/plain": [
       "<Figure size 720x288 with 1 Axes>"
      ]
     },
     "metadata": {
      "needs_background": "light"
     },
     "output_type": "display_data"
    }
   ],
   "source": [
    "g = sns.catplot(\n",
    "    data=hammond, kind=\"bar\",\n",
    "    x=\"season_episode_no\", y=\"sentiment_score\",\n",
    "    ci=None, alpha=.6, height=4, estimator=np.mean, aspect=2.5, color=\"blue\"\n",
    ")\n",
    "g.despine(left=True)\n",
    "g.fig.suptitle(\"Sentiment of General Hammond\")\n",
    "ax1, = g.axes[0]\n",
    "\n",
    "ax1.axhline(avg_hammond, ls='--')\n",
    "#ax1.axhline(0, ls='-', c='grey')\n",
    "plt.legend(labels=[\"Average\"])\n",
    "\n",
    "xticks=ax1.xaxis.get_major_ticks()\n",
    "for i in range(len(xticks)):\n",
    "    if i%10==0:\n",
    "        xticks[i].set_visible(True)\n",
    "    else:\n",
    "        xticks[i].set_visible(False)\n",
    "\n",
    "plt.show()"
   ]
  },
  {
   "cell_type": "code",
   "execution_count": 149,
   "metadata": {},
   "outputs": [
    {
     "data": {
      "text/plain": [
       "'in my many years of service i have met with many men and women in uniform around the world active guard and reserve both on the front lines and those here at home and then as nowi am continually amazed by your couragededication and patriotismour airmensoldierssailors and marines are symbols of the pride and strength of this nation be proud of what you doyou make your nation stronger and our world safer thank you'"
      ]
     },
     "execution_count": 149,
     "metadata": {},
     "output_type": "execute_result"
    }
   ],
   "source": [
    "hammond.text.iloc[3066]"
   ]
  },
  {
   "cell_type": "code",
   "execution_count": 150,
   "metadata": {},
   "outputs": [
    {
     "data": {
      "text/html": [
       "<div>\n",
       "<style scoped>\n",
       "    .dataframe tbody tr th:only-of-type {\n",
       "        vertical-align: middle;\n",
       "    }\n",
       "\n",
       "    .dataframe tbody tr th {\n",
       "        vertical-align: top;\n",
       "    }\n",
       "\n",
       "    .dataframe thead th {\n",
       "        text-align: right;\n",
       "    }\n",
       "</style>\n",
       "<table border=\"1\" class=\"dataframe\">\n",
       "  <thead>\n",
       "    <tr style=\"text-align: right;\">\n",
       "      <th></th>\n",
       "      <th>character</th>\n",
       "      <th>text</th>\n",
       "      <th>season</th>\n",
       "      <th>episode</th>\n",
       "      <th>word_count</th>\n",
       "      <th>episode_str</th>\n",
       "      <th>season_episode_no</th>\n",
       "      <th>sentiment_score</th>\n",
       "    </tr>\n",
       "  </thead>\n",
       "  <tbody>\n",
       "    <tr>\n",
       "      <th>314</th>\n",
       "      <td>hammond</td>\n",
       "      <td>we are assembling a team as we speak</td>\n",
       "      <td>8</td>\n",
       "      <td>19</td>\n",
       "      <td>8</td>\n",
       "      <td>19</td>\n",
       "      <td>819</td>\n",
       "      <td>0.0</td>\n",
       "    </tr>\n",
       "    <tr>\n",
       "      <th>316</th>\n",
       "      <td>hammond</td>\n",
       "      <td>im sorry doctor jackson but neither you nor do...</td>\n",
       "      <td>8</td>\n",
       "      <td>19</td>\n",
       "      <td>52</td>\n",
       "      <td>19</td>\n",
       "      <td>819</td>\n",
       "      <td>1.0</td>\n",
       "    </tr>\n",
       "    <tr>\n",
       "      <th>2</th>\n",
       "      <td>hammond</td>\n",
       "      <td>im aware of that</td>\n",
       "      <td>8</td>\n",
       "      <td>20</td>\n",
       "      <td>4</td>\n",
       "      <td>20</td>\n",
       "      <td>820</td>\n",
       "      <td>0.0</td>\n",
       "    </tr>\n",
       "    <tr>\n",
       "      <th>4</th>\n",
       "      <td>hammond</td>\n",
       "      <td>neither of you have had any military training ...</td>\n",
       "      <td>8</td>\n",
       "      <td>20</td>\n",
       "      <td>22</td>\n",
       "      <td>20</td>\n",
       "      <td>820</td>\n",
       "      <td>0.0</td>\n",
       "    </tr>\n",
       "    <tr>\n",
       "      <th>6</th>\n",
       "      <td>hammond</td>\n",
       "      <td>look im sorry he reaches an elevator and swipe...</td>\n",
       "      <td>8</td>\n",
       "      <td>20</td>\n",
       "      <td>27</td>\n",
       "      <td>20</td>\n",
       "      <td>820</td>\n",
       "      <td>0.0</td>\n",
       "    </tr>\n",
       "    <tr>\n",
       "      <th>17</th>\n",
       "      <td>hammond</td>\n",
       "      <td>im not sure he turns to a couple of airmen who...</td>\n",
       "      <td>8</td>\n",
       "      <td>20</td>\n",
       "      <td>23</td>\n",
       "      <td>20</td>\n",
       "      <td>820</td>\n",
       "      <td>1.0</td>\n",
       "    </tr>\n",
       "    <tr>\n",
       "      <th>40</th>\n",
       "      <td>hammond</td>\n",
       "      <td>good luck and godspeed he leaves the room</td>\n",
       "      <td>8</td>\n",
       "      <td>20</td>\n",
       "      <td>8</td>\n",
       "      <td>20</td>\n",
       "      <td>820</td>\n",
       "      <td>6.0</td>\n",
       "    </tr>\n",
       "    <tr>\n",
       "      <th>45</th>\n",
       "      <td>hammond</td>\n",
       "      <td>well according to the tape it worked for eight...</td>\n",
       "      <td>8</td>\n",
       "      <td>20</td>\n",
       "      <td>10</td>\n",
       "      <td>20</td>\n",
       "      <td>820</td>\n",
       "      <td>0.0</td>\n",
       "    </tr>\n",
       "    <tr>\n",
       "      <th>13</th>\n",
       "      <td>hammond</td>\n",
       "      <td>on radio sg1 this is hammond do you read</td>\n",
       "      <td>9</td>\n",
       "      <td>1</td>\n",
       "      <td>9</td>\n",
       "      <td>01</td>\n",
       "      <td>901</td>\n",
       "      <td>0.0</td>\n",
       "    </tr>\n",
       "    <tr>\n",
       "      <th>59</th>\n",
       "      <td>hammond</td>\n",
       "      <td>in my many years of service i have met with ma...</td>\n",
       "      <td>9</td>\n",
       "      <td>10</td>\n",
       "      <td>74</td>\n",
       "      <td>10</td>\n",
       "      <td>910</td>\n",
       "      <td>13.0</td>\n",
       "    </tr>\n",
       "  </tbody>\n",
       "</table>\n",
       "</div>"
      ],
      "text/plain": [
       "    character                                               text season  \\\n",
       "314   hammond               we are assembling a team as we speak      8   \n",
       "316   hammond  im sorry doctor jackson but neither you nor do...      8   \n",
       "2     hammond                                   im aware of that      8   \n",
       "4     hammond  neither of you have had any military training ...      8   \n",
       "6     hammond  look im sorry he reaches an elevator and swipe...      8   \n",
       "17    hammond  im not sure he turns to a couple of airmen who...      8   \n",
       "40    hammond          good luck and godspeed he leaves the room      8   \n",
       "45    hammond  well according to the tape it worked for eight...      8   \n",
       "13    hammond           on radio sg1 this is hammond do you read      9   \n",
       "59    hammond  in my many years of service i have met with ma...      9   \n",
       "\n",
       "    episode  word_count episode_str  season_episode_no  sentiment_score  \n",
       "314      19           8          19                819              0.0  \n",
       "316      19          52          19                819              1.0  \n",
       "2        20           4          20                820              0.0  \n",
       "4        20          22          20                820              0.0  \n",
       "6        20          27          20                820              0.0  \n",
       "17       20          23          20                820              1.0  \n",
       "40       20           8          20                820              6.0  \n",
       "45       20          10          20                820              0.0  \n",
       "13        1           9          01                901              0.0  \n",
       "59       10          74          10                910             13.0  "
      ]
     },
     "execution_count": 150,
     "metadata": {},
     "output_type": "execute_result"
    }
   ],
   "source": [
    "hammond.tail(10)"
   ]
  },
  {
   "cell_type": "code",
   "execution_count": 151,
   "metadata": {},
   "outputs": [
    {
     "data": {
      "text/plain": [
       "Text(0.5, 0.98, 'Sentiment count of General Hammond')"
      ]
     },
     "execution_count": 151,
     "metadata": {},
     "output_type": "execute_result"
    },
    {
     "data": {
      "image/png": "[encoded data removed]",
      "text/plain": [
       "<Figure size 216x216 with 1 Axes>"
      ]
     },
     "metadata": {
      "needs_background": "light"
     },
     "output_type": "display_data"
    }
   ],
   "source": [
    "hammond['sentiment']=hammond.sentiment_score.apply(\n",
    "    lambda x: set_sentiment(x))\n",
    "sentiment_hammond=hammond.sentiment.value_counts().reset_index()\n",
    "g = sns.catplot(\n",
    "    data=sentiment_hammond, kind=\"bar\",\n",
    "    x=\"index\", y=\"sentiment\",\n",
    "    ci=None, alpha=.6, height=3, order=['neutral','positiv','negative']\n",
    ")\n",
    "g.despine(left=True)\n",
    "g.fig.suptitle(\"Sentiment count of General Hammond\")"
   ]
  },
  {
   "cell_type": "code",
   "execution_count": 152,
   "metadata": {},
   "outputs": [
    {
     "data": {
      "text/plain": [
       "0.20594059405940593"
      ]
     },
     "execution_count": 152,
     "metadata": {},
     "output_type": "execute_result"
    }
   ],
   "source": [
    "jonas_quinn= all_scripts[all_scripts.character=='jonas']\n",
    "jonas_quinn['text']=jonas_quinn.text.apply(lambda x: ' '.join(x))\n",
    "jonas_quinn['sentiment_score']=jonas_quinn.text.apply(lambda x: afn.score(x))\n",
    "avg_jonas=jonas_quinn.sentiment_score.mean()\n",
    "avg_jonas"
   ]
  },
  {
   "cell_type": "code",
   "execution_count": 153,
   "metadata": {},
   "outputs": [
    {
     "data": {
      "text/plain": [
       "'well colonel at least let me rejoin the team for you itll be an incoming wormhole from earth what risk could there be'"
      ]
     },
     "execution_count": 153,
     "metadata": {},
     "output_type": "execute_result"
    }
   ],
   "source": [
    "outlier_jonas=jonas_quinn.loc[jonas_quinn['season_episode_no'] == 609]\n",
    "outlier_jonas.text.iloc[0]"
   ]
  },
  {
   "cell_type": "code",
   "execution_count": 154,
   "metadata": {},
   "outputs": [
    {
     "data": {
      "text/plain": [
       "<matplotlib.legend.Legend at 0x1eeaeaec8e0>"
      ]
     },
     "execution_count": 154,
     "metadata": {},
     "output_type": "execute_result"
    },
    {
     "data": {
      "image/png": "[encoded data removed]",
      "text/plain": [
       "<Figure size 720x288 with 1 Axes>"
      ]
     },
     "metadata": {
      "needs_background": "light"
     },
     "output_type": "display_data"
    }
   ],
   "source": [
    "g = sns.catplot(\n",
    "    data=jonas_quinn, kind=\"bar\",\n",
    "    x=\"season_episode_no\", y=\"sentiment_score\",\n",
    "    ci=None, alpha=.6, height=4, estimator=np.mean, aspect=2.5, color=\"blue\"\n",
    ")\n",
    "g.despine(left=True)\n",
    "g.fig.suptitle(\"Sentiment of Jonas Quinn\")\n",
    "ax1, = g.axes[0]\n",
    "\n",
    "ax1.axhline(avg_jonas, ls='--')\n",
    "#ax1.axhline(0, ls='-', c='grey')\n",
    "plt.legend(labels=[\"Average\"])\n",
    "\n"
   ]
  },
  {
   "cell_type": "code",
   "execution_count": 155,
   "metadata": {},
   "outputs": [
    {
     "data": {
      "text/plain": [
       "Text(0.5, 0.98, 'Sentiment count of Jonas Quinn')"
      ]
     },
     "execution_count": 155,
     "metadata": {},
     "output_type": "execute_result"
    },
    {
     "data": {
      "image/png": "[encoded data removed]",
      "text/plain": [
       "<Figure size 216x216 with 1 Axes>"
      ]
     },
     "metadata": {
      "needs_background": "light"
     },
     "output_type": "display_data"
    }
   ],
   "source": [
    "jonas_quinn['sentiment']=jonas_quinn.sentiment_score.apply(\n",
    "    lambda x: set_sentiment(x))\n",
    "sentiment_jonas_quinn=jonas_quinn.sentiment.value_counts().reset_index()\n",
    "g = sns.catplot(\n",
    "    data=sentiment_jonas_quinn, kind=\"bar\",\n",
    "    x=\"index\", y=\"sentiment\",\n",
    "    ci=None, alpha=.6, height=3, order=['neutral','positiv','negative']\n",
    ")\n",
    "g.despine(left=True)\n",
    "g.fig.suptitle(\"Sentiment count of Jonas Quinn\")"
   ]
  },
  {
   "cell_type": "code",
   "execution_count": 156,
   "metadata": {},
   "outputs": [
    {
     "data": {
      "text/plain": [
       "0.2641509433962264"
      ]
     },
     "execution_count": 156,
     "metadata": {},
     "output_type": "execute_result"
    }
   ],
   "source": [
    "cameron_mitchell= all_scripts[all_scripts.character=='cameron']\n",
    "cameron_mitchell['text']=cameron_mitchell.text.apply(\n",
    "    lambda x: ' '.join(x))\n",
    "cameron_mitchell['sentiment_score']=cameron_mitchell.text.apply(\n",
    "    lambda x: afn.score(x))\n",
    "avg_cam=cameron_mitchell.sentiment_score.mean()\n",
    "avg_cam"
   ]
  },
  {
   "cell_type": "code",
   "execution_count": 157,
   "metadata": {},
   "outputs": [
    {
     "data": {
      "text/plain": [
       "<matplotlib.legend.Legend at 0x1eea146ab80>"
      ]
     },
     "execution_count": 157,
     "metadata": {},
     "output_type": "execute_result"
    },
    {
     "data": {
      "image/png": "[encoded data removed]",
      "text/plain": [
       "<Figure size 720x288 with 1 Axes>"
      ]
     },
     "metadata": {
      "needs_background": "light"
     },
     "output_type": "display_data"
    }
   ],
   "source": [
    "g = sns.catplot(\n",
    "    data=cameron_mitchell, kind=\"bar\",\n",
    "    x=\"season_episode_no\", y=\"sentiment_score\",\n",
    "    ci=None, alpha=.6, height=4, estimator=np.mean, aspect=2.5, color=\"blue\"\n",
    ")\n",
    "g.despine(left=True)\n",
    "g.fig.suptitle(\"Sentiment of Cameron Mitchell\")\n",
    "g.set(ylim=(-0.5, 1))\n",
    "ax1, = g.axes[0]\n",
    "\n",
    "ax1.axhline(avg_cam, ls='--')\n",
    "#ax1.axhline(0, ls='-', c='grey')\n",
    "plt.legend(labels=[\"Average\"])\n"
   ]
  },
  {
   "cell_type": "code",
   "execution_count": 158,
   "metadata": {},
   "outputs": [
    {
     "data": {
      "text/plain": [
       "Text(0.5, 0.98, 'Sentiment count of Cameron Mitchell')"
      ]
     },
     "execution_count": 158,
     "metadata": {},
     "output_type": "execute_result"
    },
    {
     "data": {
      "image/png": "[encoded data removed]",
      "text/plain": [
       "<Figure size 216x216 with 1 Axes>"
      ]
     },
     "metadata": {
      "needs_background": "light"
     },
     "output_type": "display_data"
    }
   ],
   "source": [
    "cameron_mitchell['sentiment']=cameron_mitchell.sentiment_score.apply(\n",
    "    lambda x: set_sentiment(x))\n",
    "sentiment_cameron_mitchell=cameron_mitchell.sentiment.value_counts().reset_index()\n",
    "g = sns.catplot(\n",
    "    data=sentiment_cameron_mitchell, kind=\"bar\",\n",
    "    x=\"index\", y=\"sentiment\",\n",
    "    ci=None, alpha=.6, height=3, order=['neutral','positiv','negative']\n",
    ")\n",
    "g.despine(left=True)\n",
    "g.fig.suptitle(\"Sentiment count of Cameron Mitchell\")"
   ]
  },
  {
   "cell_type": "code",
   "execution_count": 159,
   "metadata": {},
   "outputs": [
    {
     "data": {
      "text/plain": [
       "0.07422680412371134"
      ]
     },
     "execution_count": 159,
     "metadata": {},
     "output_type": "execute_result"
    }
   ],
   "source": [
    "vala_mal_doran= all_scripts[all_scripts.character=='vala']\n",
    "vala_mal_doran['text']=vala_mal_doran.text.apply(\n",
    "    lambda x: ' '.join(x))\n",
    "vala_mal_doran['sentiment_score']=vala_mal_doran.text.apply(\n",
    "    lambda x: afn.score(x))\n",
    "avg_vala=vala_mal_doran.sentiment_score.mean()\n",
    "avg_vala"
   ]
  },
  {
   "cell_type": "code",
   "execution_count": 160,
   "metadata": {},
   "outputs": [
    {
     "data": {
      "text/plain": [
       "<matplotlib.legend.Legend at 0x1eeb086a3a0>"
      ]
     },
     "execution_count": 160,
     "metadata": {},
     "output_type": "execute_result"
    },
    {
     "data": {
      "image/png": "[encoded data removed]",
      "text/plain": [
       "<Figure size 720x288 with 1 Axes>"
      ]
     },
     "metadata": {
      "needs_background": "light"
     },
     "output_type": "display_data"
    }
   ],
   "source": [
    "g = sns.catplot(\n",
    "    data=vala_mal_doran, kind=\"bar\",\n",
    "    x=\"season_episode_no\", y=\"sentiment_score\",\n",
    "    ci=None, alpha=.6, height=4, estimator=np.mean, aspect=2.5, color=\"blue\"\n",
    ")\n",
    "g.despine(left=True)\n",
    "g.fig.suptitle(\"Sentiment of Vala Mal Doran\")\n",
    "g.set(ylim=(-0.5, 1))\n",
    "ax1, = g.axes[0]\n",
    "\n",
    "ax1.axhline(avg_vala, ls='--')\n",
    "#ax1.axhline(0, ls='-', c='grey')\n",
    "plt.legend(labels=[\"Average\"])\n"
   ]
  },
  {
   "cell_type": "code",
   "execution_count": 161,
   "metadata": {},
   "outputs": [
    {
     "data": {
      "text/plain": [
       "Text(0.5, 0.98, 'Sentiment count of Vala Mal Doran')"
      ]
     },
     "execution_count": 161,
     "metadata": {},
     "output_type": "execute_result"
    },
    {
     "data": {
      "image/png": "[encoded data removed]",
      "text/plain": [
       "<Figure size 216x216 with 1 Axes>"
      ]
     },
     "metadata": {
      "needs_background": "light"
     },
     "output_type": "display_data"
    }
   ],
   "source": [
    "vala_mal_doran['sentiment']=vala_mal_doran.sentiment_score.apply(\n",
    "    lambda x: set_sentiment(x))\n",
    "sentiment_vala_mal_doran=vala_mal_doran.sentiment.value_counts().reset_index()\n",
    "g = sns.catplot(\n",
    "    data=sentiment_vala_mal_doran, kind=\"bar\",\n",
    "    x=\"index\", y=\"sentiment\",\n",
    "    ci=None, alpha=.6, height=3, order=['neutral','positiv','negative']\n",
    ")\n",
    "g.despine(left=True)\n",
    "g.fig.suptitle(\"Sentiment count of Vala Mal Doran\")"
   ]
  },
  {
   "cell_type": "code",
   "execution_count": 162,
   "metadata": {},
   "outputs": [
    {
     "data": {
      "text/plain": [
       "0.24629080118694363"
      ]
     },
     "execution_count": 162,
     "metadata": {},
     "output_type": "execute_result"
    }
   ],
   "source": [
    "hank_landry= all_scripts[all_scripts.character=='landry']\n",
    "hank_landry['text']=hank_landry.text.apply(\n",
    "    lambda x: ' '.join(x))\n",
    "hank_landry['sentiment_score']=hank_landry.text.apply(\n",
    "    lambda x: afn.score(x))\n",
    "avg_hank_landry=hank_landry.sentiment_score.mean()\n",
    "avg_hank_landry"
   ]
  },
  {
   "cell_type": "code",
   "execution_count": 163,
   "metadata": {},
   "outputs": [
    {
     "data": {
      "text/plain": [
       "<matplotlib.legend.Legend at 0x1eeac518f40>"
      ]
     },
     "execution_count": 163,
     "metadata": {},
     "output_type": "execute_result"
    },
    {
     "data": {
      "image/png": "[encoded data removed]",
      "text/plain": [
       "<Figure size 720x288 with 1 Axes>"
      ]
     },
     "metadata": {
      "needs_background": "light"
     },
     "output_type": "display_data"
    }
   ],
   "source": [
    "g = sns.catplot(\n",
    "    data=hank_landry, kind=\"bar\",\n",
    "    x=\"season_episode_no\", y=\"sentiment_score\",\n",
    "    ci=None, alpha=.6, height=4, estimator=np.mean, aspect=2.5, color=\"blue\"\n",
    ")\n",
    "g.despine(left=True)\n",
    "g.fig.suptitle(\"Sentiment of Hank Landry\")\n",
    "g.set(ylim=(-0.5, 1))\n",
    "ax1, = g.axes[0]\n",
    "\n",
    "ax1.axhline(avg_hank_landry, ls='--')\n",
    "#ax1.axhline(0, ls='-', c='grey')\n",
    "\n",
    "plt.legend(labels=[\"Average\"])"
   ]
  },
  {
   "cell_type": "code",
   "execution_count": 164,
   "metadata": {},
   "outputs": [
    {
     "data": {
      "text/plain": [
       "Text(0.5, 0.98, 'Sentiment count of Hank Landry')"
      ]
     },
     "execution_count": 164,
     "metadata": {},
     "output_type": "execute_result"
    },
    {
     "data": {
      "image/png": "[encoded data removed]",
      "text/plain": [
       "<Figure size 216x216 with 1 Axes>"
      ]
     },
     "metadata": {
      "needs_background": "light"
     },
     "output_type": "display_data"
    }
   ],
   "source": [
    "hank_landry['sentiment']=hank_landry.sentiment_score.apply(\n",
    "    lambda x: set_sentiment(x))\n",
    "sentiment_hank_landry=hank_landry.sentiment.value_counts().reset_index()\n",
    "g = sns.catplot(\n",
    "    data=sentiment_hank_landry, kind=\"bar\",\n",
    "    x=\"index\", y=\"sentiment\",\n",
    "    ci=None, alpha=.6, height=3, order=['neutral','positiv','negative']\n",
    ")\n",
    "g.despine(left=True)\n",
    "g.fig.suptitle(\"Sentiment count of Hank Landry\")"
   ]
  },
  {
   "cell_type": "markdown",
   "metadata": {},
   "source": []
  }
 ],
 "metadata": {
  "kernelspec": {
   "display_name": "Python 3",
   "language": "python",
   "name": "python3"
  },
  "language_info": {
   "codemirror_mode": {
    "name": "ipython",
    "version": 3
   },
   "file_extension": ".py",
   "mimetype": "text/x-python",
   "name": "python",
   "nbconvert_exporter": "python",
   "pygments_lexer": "ipython3",
   "version": "3.8.8"
  }
 },
 "nbformat": 4,
 "nbformat_minor": 4
}
